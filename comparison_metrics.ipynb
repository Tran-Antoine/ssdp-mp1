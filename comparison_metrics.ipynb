{
 "cells": [
  {
   "cell_type": "code",
   "execution_count": 8,
   "metadata": {},
   "outputs": [],
   "source": [
    "import numpy as np\n",
    "import matplotlib.pyplot as plt\n",
    "import scipy as sp\n",
    "import IPython\n",
    "import librosa\n",
    "\n",
    "import scripts.afilter as afilter\n",
    "import scripts.sigutil as util\n",
    "\n",
    "from sklearn.metrics import mean_squared_error"
   ]
  },
  {
   "cell_type": "code",
   "execution_count": null,
   "metadata": {},
   "outputs": [],
   "source": [
    "importlib.reload(afilter)\n",
    "importlib.reload(util)"
   ]
  },
  {
   "cell_type": "markdown",
   "metadata": {},
   "source": [
    "### Utils"
   ]
  },
  {
   "cell_type": "code",
   "execution_count": 5,
   "metadata": {},
   "outputs": [],
   "source": [
    "def plot_adaptive(i, sig):\n",
    "    if (i - 2*fs) % (8*fs) == 0 and i > 10*fs:\n",
    "        plt.title(f'Room impulse response at {i/fs} s')\n",
    "        plt.plot(np.arange(len(sig))/fs, sig)\n",
    "        plt.xlabel('Time [s]')\n",
    "        plt.ylabel('Amplitude')\n",
    "        plt.grid()\n",
    "        plt.show()\n",
    "\n",
    "def plot_results(d, e, s, title):\n",
    "    plt.title(title)\n",
    "    plt.plot(np.arange(len(d))/fs, d, color='blue', label='d[n]', alpha=0.7)\n",
    "    plt.plot(np.arange(len(e))/fs, e, color='red', label='e_ad[n]', alpha=0.7)\n",
    "    plt.plot(np.arange(len(s))/fs, s, color='green', label='s[n], clean signal', alpha=0.5)\n",
    "    plt.grid()\n",
    "    plt.legend()"
   ]
  },
  {
   "cell_type": "markdown",
   "metadata": {},
   "source": [
    "### MSE\n",
    "We use the music + noise model, as we have access to the clean recording."
   ]
  },
  {
   "cell_type": "code",
   "execution_count": 9,
   "metadata": {},
   "outputs": [],
   "source": [
    "fs = 8000 # Hz\n",
    "\n",
    "cleanSig, _ = librosa.load('data/3_CleanGuitar.wav', sr=fs) # Downsample to fs \n",
    "noise, _ = librosa.load('data/talkingNoise.wav', sr=fs)\n",
    "\n",
    "length = min(len(cleanSig), len(noise))\n",
    "x = noise[:length]*.08\n",
    "d = cleanSig[:length] + x\n",
    "cleanSig = cleanSig[:length]"
   ]
  },
  {
   "cell_type": "markdown",
   "metadata": {},
   "source": [
    "#### LMS"
   ]
  },
  {
   "cell_type": "code",
   "execution_count": null,
   "metadata": {},
   "outputs": [],
   "source": [
    "mu = 0.03\n",
    "K = 200  # number of taps\n",
    "N_it = 5 # number of iterations\n",
    "\n",
    "f_ad_lms, e_lms = afilter.adaptive_filter(x, d, K, N_it, \n",
    "                                    algoType='LMS', mu=mu, callback=None)"
   ]
  },
  {
   "cell_type": "code",
   "execution_count": null,
   "metadata": {},
   "outputs": [],
   "source": [
    "plot_results(d, e_lms, cleanSig, title='rls')"
   ]
  },
  {
   "cell_type": "code",
   "execution_count": null,
   "metadata": {},
   "outputs": [],
   "source": [
    "mse_rls = mean_squared_error(y_true=cleanSig, y_pred=e_lms)"
   ]
  },
  {
   "cell_type": "markdown",
   "metadata": {},
   "source": [
    "#### NLMS"
   ]
  },
  {
   "cell_type": "code",
   "execution_count": null,
   "metadata": {},
   "outputs": [],
   "source": [
    "mu = .1  # needs to be between 0 and 2\n",
    "K = 200  # number of taps\n",
    "N_it = 10  # number of iterations\n",
    "\n",
    "f_ad_nlms, e_nlms = afilter.adaptive_filter(x, d, K, N_it, \n",
    "                                    algoType='NLMS', mu=mu, callback=None)"
   ]
  },
  {
   "cell_type": "code",
   "execution_count": null,
   "metadata": {},
   "outputs": [],
   "source": [
    "plot_results(d, e_nlms, cleanSig, title='rls')\n",
    "mse_rls = mean_squared_error(y_true=cleanSig, y_pred=e_nlms)"
   ]
  },
  {
   "cell_type": "markdown",
   "metadata": {},
   "source": [
    "#### RLS"
   ]
  },
  {
   "cell_type": "code",
   "execution_count": 10,
   "metadata": {},
   "outputs": [],
   "source": [
    "delta = 0.01 # Regularization. Smaller delta => stronger filter.\n",
    "lambda_ = 0.9 # Forgetting factor.\n",
    "K = 200  # number of taps\n",
    "N_it = 1  # number of iterations\n",
    "\n",
    "f_ad_rls, e_rls = afilter.adaptive_filter(x, d, K, N_it, \n",
    "                                            algoType='RLS', lambda_=lambda_, delta=delta, callback=None)"
   ]
  },
  {
   "cell_type": "code",
   "execution_count": null,
   "metadata": {},
   "outputs": [],
   "source": [
    "plot_results(d, e_rls, cleanSig, title='rls')"
   ]
  },
  {
   "cell_type": "code",
   "execution_count": 14,
   "metadata": {},
   "outputs": [],
   "source": [
    "mse_rls = mean_squared_error(y_true=cleanSig, y_pred=e_rls)"
   ]
  },
  {
   "cell_type": "markdown",
   "metadata": {},
   "source": [
    "### Speech metrics"
   ]
  },
  {
   "cell_type": "code",
   "execution_count": null,
   "metadata": {},
   "outputs": [],
   "source": []
  }
 ],
 "metadata": {
  "kernelspec": {
   "display_name": "Python 3",
   "language": "python",
   "name": "python3"
  },
  "language_info": {
   "codemirror_mode": {
    "name": "ipython",
    "version": 3
   },
   "file_extension": ".py",
   "mimetype": "text/x-python",
   "name": "python",
   "nbconvert_exporter": "python",
   "pygments_lexer": "ipython3",
   "version": "3.10.7"
  }
 },
 "nbformat": 4,
 "nbformat_minor": 2
}
